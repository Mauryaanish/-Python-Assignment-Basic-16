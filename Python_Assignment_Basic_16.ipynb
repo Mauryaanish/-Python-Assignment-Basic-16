{
  "nbformat": 4,
  "nbformat_minor": 0,
  "metadata": {
    "colab": {
      "provenance": []
    },
    "kernelspec": {
      "name": "python3",
      "display_name": "Python 3"
    },
    "language_info": {
      "name": "python"
    }
  },
  "cells": [
    {
      "cell_type": "markdown",
      "source": [
        "## 1. Create a list called years_list, starting with the year of your birth, and each year thereafter until\n",
        "the year of your fifth birthday. For example, if you were born in 1980. the list would be years_list =\n",
        "[1980, 1981, 1982, 1983, 1984, 1985]."
      ],
      "metadata": {
        "id": "1c7oX_nM85dJ"
      }
    },
    {
      "cell_type": "code",
      "source": [
        "years_list = [1980 , 1981 , 1982 , 1983 , 1994 , 1985]\n",
        "year = int(input(\"Enter Year:- \"))\n",
        "\n",
        "for i in range(len(years_list)):\n",
        "\n",
        "    if  years_list[i] == year :\n",
        "      print(\"Found\")\n",
        "      break\n",
        "    print(\"Not Found\")\n",
        "    break\n",
        "      "
      ],
      "metadata": {
        "colab": {
          "base_uri": "https://localhost:8080/"
        },
        "id": "wN0LbxlA86ws",
        "outputId": "d595cc93-9107-4609-8333-4bd8f00deff7"
      },
      "execution_count": 56,
      "outputs": [
        {
          "output_type": "stream",
          "name": "stdout",
          "text": [
            "Enter Year:- 1980\n",
            "Found\n"
          ]
        }
      ]
    },
    {
      "cell_type": "code",
      "source": [
        " "
      ],
      "metadata": {
        "id": "hpzyoC0X92LW"
      },
      "execution_count": null,
      "outputs": []
    },
    {
      "cell_type": "markdown",
      "source": [
        "2. In which year in years_list was your third birthday? Remember, you were 0 years of age for your\n",
        "first year."
      ],
      "metadata": {
        "id": "MUmUC27YBRBa"
      }
    },
    {
      "cell_type": "code",
      "source": [
        "years_list = [1980 , 1981 , 1982 , 1983 , 1994 , 1985]\n",
        "\n",
        "years_list[2]"
      ],
      "metadata": {
        "colab": {
          "base_uri": "https://localhost:8080/"
        },
        "id": "emJUqJyfBffs",
        "outputId": "96156fcf-84bc-4fa6-d80e-1dec1157c0c4"
      },
      "execution_count": 57,
      "outputs": [
        {
          "output_type": "execute_result",
          "data": {
            "text/plain": [
              "1982"
            ]
          },
          "metadata": {},
          "execution_count": 57
        }
      ]
    },
    {
      "cell_type": "code",
      "source": [],
      "metadata": {
        "id": "_RfIFBbOBlBN"
      },
      "execution_count": null,
      "outputs": []
    },
    {
      "cell_type": "markdown",
      "source": [
        "## 3.In the years list, which year were you the oldest?"
      ],
      "metadata": {
        "id": "KCCsSPDtBzZc"
      }
    },
    {
      "cell_type": "code",
      "source": [
        "years_list[-2]"
      ],
      "metadata": {
        "colab": {
          "base_uri": "https://localhost:8080/"
        },
        "id": "gbqeooSDB9ga",
        "outputId": "b974e985-5ffd-474d-937d-cd88df0bfdac"
      },
      "execution_count": 58,
      "outputs": [
        {
          "output_type": "execute_result",
          "data": {
            "text/plain": [
              "1994"
            ]
          },
          "metadata": {},
          "execution_count": 58
        }
      ]
    },
    {
      "cell_type": "code",
      "source": [],
      "metadata": {
        "id": "OmTTq3ovCC4u"
      },
      "execution_count": null,
      "outputs": []
    },
    {
      "cell_type": "markdown",
      "source": [
        "4. Make a list called things with these three strings as elements: &quot;mozzarella&quot;, &quot;cinderella&quot;,\n",
        "&quot;salmonella&quot;."
      ],
      "metadata": {
        "id": "-t5J-M97CP8k"
      }
    },
    {
      "cell_type": "code",
      "source": [
        "str_list = [\"mozzarella\", \"cinderella\", \"salmonella\"]\n",
        "str_list1 = []"
      ],
      "metadata": {
        "id": "O_QEQmVTCQ9d"
      },
      "execution_count": 65,
      "outputs": []
    },
    {
      "cell_type": "code",
      "source": [
        "for i in range(len(str_list)):\n",
        "  print(str_list[i].upper())\n"
      ],
      "metadata": {
        "colab": {
          "base_uri": "https://localhost:8080/"
        },
        "id": "dcUoC6u0CXSl",
        "outputId": "18de9089-f14c-4bfe-9d82-2b34ce83e9d9"
      },
      "execution_count": 77,
      "outputs": [
        {
          "output_type": "stream",
          "name": "stdout",
          "text": [
            "MOZZARELLA\n",
            "CINDERELLA\n",
            "SALMONELLA\n"
          ]
        }
      ]
    },
    {
      "cell_type": "code",
      "source": [],
      "metadata": {
        "id": "AEELLVtBCu-2"
      },
      "execution_count": null,
      "outputs": []
    },
    {
      "cell_type": "markdown",
      "source": [
        "6. Make a surprise list with the elements &quot;Groucho,&quot; &quot;Chico,&quot; and &quot;Harpo.&quot;"
      ],
      "metadata": {
        "id": "XGUb3PpED_Im"
      }
    },
    {
      "cell_type": "code",
      "source": [
        "new_list = [\"Groucho\" , \"Chico\" , \"Harpo\"]\n",
        "new_list1 = str_list = new_list"
      ],
      "metadata": {
        "id": "qJ2ib5tJEAQO"
      },
      "execution_count": 78,
      "outputs": []
    },
    {
      "cell_type": "code",
      "source": [
        "print(new_list1)"
      ],
      "metadata": {
        "colab": {
          "base_uri": "https://localhost:8080/"
        },
        "id": "ACIQCEnmEhGO",
        "outputId": "1b3cfe10-82ec-4c1e-933e-0d3ac60629cf"
      },
      "execution_count": 80,
      "outputs": [
        {
          "output_type": "stream",
          "name": "stdout",
          "text": [
            "['Groucho', 'Chico', 'Harpo']\n"
          ]
        }
      ]
    },
    {
      "cell_type": "code",
      "source": [
        "str_list"
      ],
      "metadata": {
        "colab": {
          "base_uri": "https://localhost:8080/"
        },
        "id": "hON7qqMQEkTu",
        "outputId": "fe2bd775-4875-4887-dbb1-bf29d91c4925"
      },
      "execution_count": 81,
      "outputs": [
        {
          "output_type": "execute_result",
          "data": {
            "text/plain": [
              "['Groucho', 'Chico', 'Harpo']"
            ]
          },
          "metadata": {},
          "execution_count": 81
        }
      ]
    },
    {
      "cell_type": "code",
      "source": [],
      "metadata": {
        "id": "Nx_SQdYkEvT_"
      },
      "execution_count": null,
      "outputs": []
    },
    {
      "cell_type": "markdown",
      "source": [
        "7. Lowercase the last element of the surprise list, reverse it, and then capitalize it."
      ],
      "metadata": {
        "id": "QvVbn3rmE0LP"
      }
    },
    {
      "cell_type": "code",
      "source": [
        "str_list = ['Groucho', 'Chico', 'Harpo']\n",
        "str_list1 = []\n",
        "str_list.reverse()\n",
        "for i in range(len(str_list)):\n",
        "\n",
        "   str_list1.append(str_list[i].upper())\n",
        "print(str_list1)\n"
      ],
      "metadata": {
        "colab": {
          "base_uri": "https://localhost:8080/"
        },
        "id": "swBVIbQHE11m",
        "outputId": "2730a313-1e71-4380-f9eb-eab3fa2b9c4a"
      },
      "execution_count": 96,
      "outputs": [
        {
          "output_type": "stream",
          "name": "stdout",
          "text": [
            "['HARPO', 'CHICO', 'GROUCHO']\n"
          ]
        }
      ]
    },
    {
      "cell_type": "code",
      "source": [],
      "metadata": {
        "id": "tfajZ1AxFCMO"
      },
      "execution_count": null,
      "outputs": []
    },
    {
      "cell_type": "markdown",
      "source": [
        "8. Make an English-to-French dictionary called e2f and print it. Here are your starter words: dog is\n",
        "chien, cat is chat, and walrus is morse."
      ],
      "metadata": {
        "id": "J6VA0hLYHN_o"
      }
    },
    {
      "cell_type": "code",
      "source": [
        "dic = {\"Dog\" : \"Chien\" , \"Cat\" : \"Chat\" , \"walrus\" : \"morse\"}\n",
        "print(dic)"
      ],
      "metadata": {
        "colab": {
          "base_uri": "https://localhost:8080/"
        },
        "id": "TufojkEmHOlw",
        "outputId": "2276ec73-4647-4e90-d1c2-2bbd6dad6fb5"
      },
      "execution_count": 98,
      "outputs": [
        {
          "output_type": "stream",
          "name": "stdout",
          "text": [
            "{'Dog': 'Chien', 'Cat': 'Chat', 'walrus': 'morse'}\n"
          ]
        }
      ]
    },
    {
      "cell_type": "code",
      "source": [],
      "metadata": {
        "id": "v3AnLKp9Hxq-"
      },
      "execution_count": null,
      "outputs": []
    },
    {
      "cell_type": "markdown",
      "source": [
        "9. Write the French word for walrus in your three-word dictionary e2f."
      ],
      "metadata": {
        "id": "Qau63m2pH5Au"
      }
    },
    {
      "cell_type": "code",
      "source": [
        "list(dic.values())"
      ],
      "metadata": {
        "colab": {
          "base_uri": "https://localhost:8080/"
        },
        "id": "vG3PI6PHIAbf",
        "outputId": "7f7074a4-a378-48d1-cac1-dbb87dd7e52c"
      },
      "execution_count": 100,
      "outputs": [
        {
          "output_type": "execute_result",
          "data": {
            "text/plain": [
              "['Chien', 'Chat', 'morse']"
            ]
          },
          "metadata": {},
          "execution_count": 100
        }
      ]
    },
    {
      "cell_type": "code",
      "source": [],
      "metadata": {
        "id": "pAyqaYEBIDNW"
      },
      "execution_count": null,
      "outputs": []
    },
    {
      "cell_type": "markdown",
      "source": [
        "11. Print the English version of the French word chien using f2e."
      ],
      "metadata": {
        "id": "5ARyb7TiIMGZ"
      }
    },
    {
      "cell_type": "code",
      "source": [
        "dic = {\"Dog\" : \"Chien\" , \"Cat\" : \"Chat\" , \"walrus\" : \"morse\"}\n",
        "dic[\"Dog\"]"
      ],
      "metadata": {
        "colab": {
          "base_uri": "https://localhost:8080/",
          "height": 35
        },
        "id": "fkBQCJfDIM0i",
        "outputId": "e53f1d65-86e7-401b-8fdd-df22464022c6"
      },
      "execution_count": 116,
      "outputs": [
        {
          "output_type": "execute_result",
          "data": {
            "text/plain": [
              "'Chien'"
            ],
            "application/vnd.google.colaboratory.intrinsic+json": {
              "type": "string"
            }
          },
          "metadata": {},
          "execution_count": 116
        }
      ]
    },
    {
      "cell_type": "code",
      "source": [],
      "metadata": {
        "id": "2Kfm4854IZjI"
      },
      "execution_count": null,
      "outputs": []
    },
    {
      "cell_type": "markdown",
      "source": [
        "12 Make and print a set of English words from the keys in e2f."
      ],
      "metadata": {
        "id": "qETztbspJpNn"
      }
    },
    {
      "cell_type": "code",
      "source": [
        "dic = {\"Dog\" : \"Chien\" , \"Cat\" : \"Chat\" , \"walrus\" : \"morse\"}\n",
        "list(dic.keys())"
      ],
      "metadata": {
        "colab": {
          "base_uri": "https://localhost:8080/"
        },
        "id": "fA55fNXWJqB3",
        "outputId": "1fec8be8-2644-47fc-cb3e-9f8a43ea809b"
      },
      "execution_count": 113,
      "outputs": [
        {
          "output_type": "execute_result",
          "data": {
            "text/plain": [
              "['Dog', 'Cat', 'walrus']"
            ]
          },
          "metadata": {},
          "execution_count": 113
        }
      ]
    },
    {
      "cell_type": "code",
      "source": [],
      "metadata": {
        "id": "RbH3sKvFJwzf"
      },
      "execution_count": null,
      "outputs": []
    },
    {
      "cell_type": "code",
      "source": [],
      "metadata": {
        "id": "S5KwIuTnKnEQ"
      },
      "execution_count": null,
      "outputs": []
    }
  ]
}